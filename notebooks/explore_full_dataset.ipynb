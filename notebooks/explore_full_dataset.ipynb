{
 "cells": [
  {
   "cell_type": "code",
   "execution_count": 2,
   "metadata": {},
   "outputs": [],
   "source": [
    "import os\n",
    "from radar_scenes.sequence import Sequence\n",
    "\n",
    "# Load RadarScenes dataset.\n",
    "PATH_TO_DATASET = \"/home/robesafe/Datasets/RadarScenes\"\n",
    "if not os.path.exists(PATH_TO_DATASET):\n",
    "    raise FileNotFoundError(\"Dataset not found at {}\".format(PATH_TO_DATASET))\n",
    "\n",
    "SEQUENCE_NUMBER = 1\n",
    "filename = os.path.join(PATH_TO_DATASET, \"data\", f\"sequence_{SEQUENCE_NUMBER}\", \"scenes.json\")\n",
    "sequence = Sequence.from_json(filename)\n",
    "SCENES_NUMBER = sum(1 for x in sequence.scenes())  # a dirty way to compute the length of a generator."
   ]
  },
  {
   "cell_type": "code",
   "execution_count": 3,
   "metadata": {},
   "outputs": [
    {
     "name": "stderr",
     "output_type": "stream",
     "text": [
      "100%|██████████| 60/60 [02:54<00:00,  2.90s/it]\n"
     ]
    },
    {
     "name": "stdout",
     "output_type": "stream",
     "text": [
      "          timestamp  sensor_id   range_sc  azimuth_sc        rcs        vr  \\\n",
      "0      156862647501          1   2.566963   -0.124031 -28.300673  0.009330   \n",
      "1      156862647501          1   2.096815    0.849328 -26.863953 -8.023678   \n",
      "2      156862647501          1   3.338323    1.106456 -26.564907 -9.334642   \n",
      "0      156862659751          2   8.882484    1.156905   0.101503 -7.361293   \n",
      "1      156862659751          2   9.479269    1.090472  -3.724234 -7.834501   \n",
      "..              ...        ...        ...         ...        ...       ...   \n",
      "217  18911385359951          2  37.169346    0.383739  18.789371 -2.708037   \n",
      "218  18911385359951          2  41.992672    0.444825  -5.240848 -2.712838   \n",
      "219  18911385359951          2  43.633587    0.431280  -7.286972 -2.711053   \n",
      "220  18911385359951          2  44.703930    0.423473  -2.247520 -2.705440   \n",
      "221  18911385359951          2  68.326965    0.377945  -8.397095 -1.959082   \n",
      "\n",
      "     vr_compensated       x_cc      y_cc       x_seq       y_seq  \\\n",
      "0         -0.417386   3.566967 -3.438166 -172.275452 -226.578384   \n",
      "1          0.043853   5.351263 -2.116543 -173.183823 -228.604523   \n",
      "2         -0.005208   6.765986 -2.104209 -174.411224 -229.308151   \n",
      "0          0.244834  10.533686  5.161779 -174.245239 -237.550934   \n",
      "1          0.193050  11.381632  5.069020 -175.029877 -237.885529   \n",
      "..              ...        ...       ...         ...         ...   \n",
      "217       -0.005612  40.978237 -2.648530   50.864872  -98.974350   \n",
      "218       -0.010994  45.851105 -0.337226   47.774662 -103.394478   \n",
      "219       -0.008210  47.493061 -0.914052   46.062428 -103.705925   \n",
      "220       -0.002247  48.560318 -1.268301   44.959724 -103.926338   \n",
      "221        0.742874  72.071121 -4.677139   22.843376 -112.600731   \n",
      "\n",
      "                                    uuid track_id  label_id  \n",
      "0    b'daf7becf58f03c9ad3850fe7ed05ddcf'      b''        11  \n",
      "1    b'0456ea9f7947f3c35af66ad546001e01'      b''        11  \n",
      "2    b'18e82fe436de2f94940b6ef011185ce8'      b''        11  \n",
      "0    b'f458e5a88269a286959211a188573994'      b''        11  \n",
      "1    b'f323f4e2753522ec982e1bcb5db2197c'      b''        11  \n",
      "..                                   ...      ...       ...  \n",
      "217  b'4663f0a122db2a202b37a85938d48a14'      b''        11  \n",
      "218  b'a20096c5b2ffb1d68a41ec550a368a3f'      b''        11  \n",
      "219  b'fde8274cfe76fd57ef446f9fbc6ed3aa'      b''        11  \n",
      "220  b'50befc9c63b1460eca1c8ca2795ff823'      b''        11  \n",
      "221  b'0d447a6920ff78f75bca3125ac194566'      b''        11  \n",
      "\n",
      "[35785534 rows x 14 columns]\n"
     ]
    }
   ],
   "source": [
    "import pandas as pd\n",
    "from tqdm import tqdm\n",
    "START_SEQ, END_SEQ = 1, 60\n",
    "\n",
    "scenes_data = []\n",
    "for seq_number in tqdm(range(START_SEQ, END_SEQ + 1)):\n",
    "    seq_filename = os.path.join(PATH_TO_DATASET, \"data\", f\"sequence_{seq_number}\", \"scenes.json\")\n",
    "    sequence = Sequence.from_json(seq_filename)\n",
    "    timestamps = sequence.timestamps\n",
    "    \n",
    "    for timestamp in timestamps:\n",
    "        scene = sequence.get_scene(timestamp)\n",
    "        scene_radar_data = pd.DataFrame(scene.radar_data)\n",
    "        scenes_data.append(scene_radar_data)    \n",
    "\n",
    "res = pd.concat(scenes_data)\n",
    "print(res)"
   ]
  },
  {
   "cell_type": "code",
   "execution_count": 5,
   "metadata": {},
   "outputs": [],
   "source": [
    "PATH_TO_CSV = os.path.join(\"/home/robesafe/Santi\", \"radarscenes_csv_p1.csv\")\n",
    "res.to_csv(PATH_TO_CSV)"
   ]
  },
  {
   "cell_type": "code",
   "execution_count": 14,
   "metadata": {},
   "outputs": [
    {
     "data": {
      "text/plain": [
       "(0.0, 500000.0)"
      ]
     },
     "execution_count": 14,
     "metadata": {},
     "output_type": "execute_result"
    },
    {
     "data": {
      "image/png": "[encoded data removed]",
      "text/plain": [
       "<Figure size 432x288 with 1 Axes>"
      ]
     },
     "metadata": {
      "needs_background": "light"
     },
     "output_type": "display_data"
    }
   ],
   "source": [
    "ax = res['vr_compensated'].hist(bins=10000)\n",
    "ax.set_xlim(-10, 10)\n",
    "ax.set_ylim(0, 5e5)"
   ]
  },
  {
   "cell_type": "code",
   "execution_count": 16,
   "metadata": {},
   "outputs": [
    {
     "data": {
      "text/plain": [
       "(0.0, 500000.0)"
      ]
     },
     "execution_count": 16,
     "metadata": {},
     "output_type": "execute_result"
    },
    {
     "data": {
      "image/png": "[encoded data removed]",
      "text/plain": [
       "<Figure size 432x288 with 1 Axes>"
      ]
     },
     "metadata": {
      "needs_background": "light"
     },
     "output_type": "display_data"
    }
   ],
   "source": [
    "ax = res['rcs'].hist(bins=1000)\n",
    "ax.set_ylim(0, 5e5)"
   ]
  }
 ],
 "metadata": {
  "kernelspec": {
   "display_name": "Python 3.9.12 ('base')",
   "language": "python",
   "name": "python3"
  },
  "language_info": {
   "codemirror_mode": {
    "name": "ipython",
    "version": 3
   },
   "file_extension": ".py",
   "mimetype": "text/x-python",
   "name": "python",
   "nbconvert_exporter": "python",
   "pygments_lexer": "ipython3",
   "version": "3.9.12"
  },
  "orig_nbformat": 4,
  "vscode": {
   "interpreter": {
    "hash": "4406ea31cdf9857eb4429f9ef0595ec2e3b9f71979a24e3f6d87669e7dbf13d2"
   }
  }
 },
 "nbformat": 4,
 "nbformat_minor": 2
}
